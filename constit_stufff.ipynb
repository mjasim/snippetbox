{
 "cells": [
  {
   "cell_type": "code",
   "execution_count": 9,
   "metadata": {},
   "outputs": [],
   "source": [
    "import json\n",
    "import nltk\n",
    "\n",
    "with open(\"gists/minidogs.jsonl\", \"r\") as inf:\n",
    "    lns = [json.loads(i) for i in inf]"
   ]
  },
  {
   "cell_type": "code",
   "execution_count": 44,
   "metadata": {},
   "outputs": [],
   "source": [
    "ROOT = 'ROOT'\n",
    "def getNodes(parent, out):\n",
    "    for node in parent:\n",
    "        if type(node) is nltk.Tree:\n",
    "            if node.label() == ROOT:\n",
    "                print(\"======== Sentence =========\")\n",
    "                print(\"Sentence:\", \" \".join(node.leaves()))\n",
    "            else:\n",
    "                #print(\"Label:\", node.label())\n",
    "                #print(\"Leaves:\", node.leaves())\n",
    "                if len(node.leaves()) > 1:\n",
    "                    out.append((node.label(), \" \".join(node.leaves())))\n",
    "\n",
    "            getNodes(node, out)\n",
    "        else:\n",
    "            pass"
   ]
  },
  {
   "cell_type": "code",
   "execution_count": 52,
   "metadata": {},
   "outputs": [],
   "source": [
    "from environments.envs import ENVIRONMENTS\n",
    "import argparse\n",
    "import kenlm\n",
    "import json\n",
    "\n",
    "from klm.query import LM\n",
    "from klm.query import get_unigram_probs\n",
    "\n",
    "env = ENVIRONMENTS[\"DEV\"]\n",
    "LOC = env['klm_model']\n",
    "UG_MODEL = env[\"ug_model\"]\n",
    "\n",
    "lm = LM(loc=LOC)\n",
    "up = get_unigram_probs(UG_MODEL)\n",
    "from klm.query import slor"
   ]
  },
  {
   "cell_type": "code",
   "execution_count": 65,
   "metadata": {},
   "outputs": [
    {
     "data": {
      "text/plain": [
       "[('WHPP', 1.3954029079386394),\n",
       " ('QP', 1.163865520143636),\n",
       " ('SQ', 1.040755661819492),\n",
       " ('SINV', 0.9666974629882816),\n",
       " ('SBARQ', 0.9209395713480304),\n",
       " ('S', 0.9084331019542318),\n",
       " ('SBAR', 0.8160070705824893),\n",
       " ('UCP', 0.7164202955055198),\n",
       " ('WHNP', 0.7028571381694335),\n",
       " ('FRAG', 0.530781427732303)]"
      ]
     },
     "execution_count": 65,
     "metadata": {},
     "output_type": "execute_result"
    }
   ],
   "source": [
    "from nltk.tree import *\n",
    "from collections import defaultdict\n",
    "\n",
    "label2slor = defaultdict(list)\n",
    "\n",
    "for l in lns:\n",
    "    out = list()\n",
    "    tree2 = Tree.fromstring(l[\"parse\"])\n",
    "    getNodes(tree2, out)\n",
    "\n",
    "    for o in out:\n",
    "        label, str_ = o\n",
    "        label2slor[label].append(slor(str_,lm, up))\n",
    "        \n",
    "import numpy as np\n",
    "\n",
    "l2nlor = [(l, np.mean(label2slor[l])) for l in label2slor]\n",
    "l2nlor.sort(key=lambda x:x[1], reverse=True)\n",
    "\n",
    "l2nlor[0:10]"
   ]
  }
 ],
 "metadata": {
  "kernelspec": {
   "display_name": "Python 3",
   "language": "python",
   "name": "python3"
  },
  "language_info": {
   "codemirror_mode": {
    "name": "ipython",
    "version": 3
   },
   "file_extension": ".py",
   "mimetype": "text/x-python",
   "name": "python",
   "nbconvert_exporter": "python",
   "pygments_lexer": "ipython3",
   "version": "3.7.4"
  }
 },
 "nbformat": 4,
 "nbformat_minor": 2
}
