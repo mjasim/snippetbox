{
 "cells": [
  {
   "cell_type": "code",
   "execution_count": 1,
   "metadata": {},
   "outputs": [],
   "source": [
    "import json\n",
    "import numpy as np\n",
    "from random import choice\n",
    "from klm.query import LM, get_unigram_probs\n",
    "from code.all import get_stops\n",
    "from klm.query import slor\n",
    "\n",
    "stop_words = get_stops()\n",
    "\n",
    "comments = []\n",
    "with open(\"corpora/data_ccrit.spacy.jsonl\", \"r\") as inf:\n",
    "    for i in inf:\n",
    "        i = json.loads(i)\n",
    "        comments.append(i)\n",
    "\n",
    "DEV = {\n",
    "        'klm_model': \"/Users/ahandler/research/snippetbox/klm/all_gw.binary\",\n",
    "        'ug_model': \"/Users/ahandler/research/snippetbox/klm/all_gw.unigrams.json\"\n",
    "}\n",
    "\n",
    "env = DEV\n",
    "LOC = env['klm_model']\n",
    "UG_MODEL = env[\"ug_model\"]\n",
    "\n",
    "lm = LM(loc=LOC)\n",
    "up = get_unigram_probs(UG_MODEL)"
   ]
  },
  {
   "cell_type": "code",
   "execution_count": 11,
   "metadata": {},
   "outputs": [
    {
     "name": "stdout",
     "output_type": "stream",
     "text": [
      "***\n",
      "[('I think it ... ... ... ... ... ... it would be a landmark ... ... ... ... ... ... ...', 2.9113133452499387), ('I think it would ... ... ... ... as it would be ... ... ... ... ... ... ... ... ...', 2.774708739130859), ('I think it would bring ... ... ... ... ... ... ... ... ... that represents a border ... ... ...', 2.769765535656738), ('I think ... ... ... ... ... ... ... ... ... ... ... ... ... ... ... ... ... two cities', 2.7176468549092614)]\n",
      "I think it would bring the community together as it would be a landmark that represents a border between two cities 1.5216273063848589\n"
     ]
    }
   ],
   "source": [
    "ix = 13\n",
    "\n",
    "import re\n",
    "\n",
    "def print_me(ix, o):\n",
    "    return o if ix == 1 else \"...\"\n",
    "\n",
    "def clean_dots(str_):\n",
    "    a = \"[... ]{2,8}\"\n",
    "    b = \"\\.{6,}\"\n",
    "    fix_multi_dots = re.sub(a, \"...\", str_)\n",
    "    remove_long_dots = re.sub(b, \"...\", fix_multi_dots)\n",
    "    return remove_long_dots\n",
    "\n",
    "\n",
    "ops = []\n",
    "\n",
    "for oo in range(1000):\n",
    "\n",
    "    included = np.ones(len(comments[ix][\"tokens\"]))\n",
    "\n",
    "    for o in range(choice([1,2])):\n",
    "\n",
    "        d1 = choice(range(len(comments[ix][\"tokens\"])))\n",
    "        included[d1] = 0\n",
    "        deleted = choice(range(10))\n",
    "\n",
    "        for i in range(deleted):\n",
    "            if i + d1 < len(included):\n",
    "                included[i + d1] = 0\n",
    "    \n",
    "    \n",
    "    comment = [print_me(ix, o) for ix, o in zip(included, comments[ix][\"tokens\"])]\n",
    "    \n",
    "    sequence = \" \".join([o for o in comment if o != \"...\"])\n",
    "    \n",
    "\n",
    "    remove_long_dots = clean_dots(\" \".join(comment)\n",
    "    \n",
    "    worst = 1000\n",
    "    for seq in remove_long_dots.split(\"...\"):\n",
    "        if slor(seq, lm, up) < worst:\n",
    "            worst = slor(seq, lm, up)\n",
    "    \n",
    "    ops.append((remove_long_dots, worst))\n",
    "\n",
    "ops.sort(key=lambda x:x[1], reverse=True)\n",
    "print(\"***\")\n",
    "print(ops[0:4])\n",
    "print(\" \".join(comments[ix][\"tokens\"]), slor(\" \".join(comments[ix][\"tokens\"]), lm, up))"
   ]
  },
  {
   "cell_type": "code",
   "execution_count": 8,
   "metadata": {},
   "outputs": [
    {
     "name": "stdout",
     "output_type": "stream",
     "text": [
      "-4.038015842437744 2: <s> bring\n",
      "-1.0804628133773804 3: <s> bring the\n",
      "-2.8131766319274902 3: bring the community\n",
      "-0.8136436343193054 3: the community </s>\n"
     ]
    },
    {
     "data": {
      "text/plain": [
       "0.9955547498046875"
      ]
     },
     "execution_count": 8,
     "metadata": {},
     "output_type": "execute_result"
    }
   ],
   "source": [
    "lm.score(\"bring the community\", verbose=True)\n",
    "slor(\"it would be a\", lm, up)"
   ]
  }
 ],
 "metadata": {
  "kernelspec": {
   "display_name": "Python 3",
   "language": "python",
   "name": "python3"
  },
  "language_info": {
   "codemirror_mode": {
    "name": "ipython",
    "version": 3
   },
   "file_extension": ".py",
   "mimetype": "text/x-python",
   "name": "python",
   "nbconvert_exporter": "python",
   "pygments_lexer": "ipython3",
   "version": "3.7.4"
  }
 },
 "nbformat": 4,
 "nbformat_minor": 2
}
