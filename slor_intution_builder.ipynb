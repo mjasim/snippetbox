{
 "cells": [
  {
   "cell_type": "code",
   "execution_count": 1,
   "metadata": {},
   "outputs": [],
   "source": [
    "import json\n",
    "import numpy as np\n",
    "from random import choice\n",
    "from klm.query import LM, get_unigram_probs\n",
    "from code.all import get_stops\n",
    "from klm.query import slor\n",
    "\n",
    "stop_words = get_stops()\n",
    "\n",
    "comments = []\n",
    "with open(\"corpora/data_ccrit.spacy.jsonl\", \"r\") as inf:\n",
    "    for i in inf:\n",
    "        i = json.loads(i)\n",
    "        comments.append(i)\n",
    "\n",
    "DEV = {\n",
    "        'klm_model': \"/Users/ahandler/research/snippetbox/klm/all_gw.binary\",\n",
    "        'ug_model': \"/Users/ahandler/research/snippetbox/klm/all_gw.unigrams.json\"\n",
    "}\n",
    "\n",
    "env = DEV\n",
    "LOC = env['klm_model']\n",
    "UG_MODEL = env[\"ug_model\"]\n",
    "\n",
    "lm = LM(loc=LOC)\n",
    "up = get_unigram_probs(UG_MODEL)"
   ]
  },
  {
   "cell_type": "code",
   "execution_count": 31,
   "metadata": {},
   "outputs": [
    {
     "name": "stdout",
     "output_type": "stream",
     "text": [
      "***\n",
      "[('I think it would bring the community... represents a border between two cities', 1.7864914436959403), ('I think it would bring the community... represents a border between two cities', 1.7864914436959403), ('I think it would bring the community... represents a border between two cities', 1.7864914436959403), ('I think it would bring the community... represents... between two cities', 1.7864914436959403)]\n"
     ]
    }
   ],
   "source": [
    "ix = 13\n",
    "\n",
    "import re\n",
    "\n",
    "def print_me(ix, o):\n",
    "    return o if ix == 1 else \"...\"\n",
    "\n",
    "def clean_dots(str_):\n",
    "    a = \"[... ]{2,8}\"\n",
    "    b = \"\\.{6,}\"\n",
    "    fix_multi_dots = re.sub(a, \"...\", str_)\n",
    "    remove_long_dots = re.sub(b, \"...\", fix_multi_dots)\n",
    "    return remove_long_dots\n",
    "\n",
    "def min_slor_scorer(input_snippet):\n",
    "    ### See evernote: how do you use SLOR to make a good snippet?\n",
    "    all_ = []\n",
    "    for seq in input_snippet.split(\"...\"):\n",
    "        all_.append(slor(seq, lm, up))\n",
    "    return min(all_)\n",
    "\n",
    "\n",
    "def shorten_sentences(comment, b=100, N=1000, scorer=min_slor_scorer):\n",
    "\n",
    "    ops = [(\" \".join(comment[\"tokens\"])[0:b],min_slor_scorer(\" \".join(comment[\"tokens\"])[0:b]))] # default answer\n",
    "    \n",
    "    for oo in range(N):\n",
    "\n",
    "        included = np.ones(len(comment[\"tokens\"]))\n",
    "\n",
    "        for o in range(choice([1,2])):\n",
    "\n",
    "            d1 = choice(range(len(comment[\"tokens\"])))\n",
    "            included[d1] = 0\n",
    "            deleted = choice(range(10))\n",
    "\n",
    "            for i in range(deleted):\n",
    "                if i + d1 < len(included):\n",
    "                    included[i + d1] = 0\n",
    "\n",
    "\n",
    "        comment_snippet = [print_me(ix, o) for ix, o in zip(included, comment[\"tokens\"])]\n",
    "\n",
    "        sequence = \" \".join([o for o in comment_snippet if o != \"...\"])\n",
    "\n",
    "        remove_long_dots = clean_dots(\" \".join(comment_snippet))\n",
    "    \n",
    "        if len(remove_long_dots) < b:\n",
    "            ops.append((remove_long_dots, scorer(remove_long_dots)))\n",
    "\n",
    "    return ops\n",
    "    \n",
    "    \n",
    "ops = shorten_sentences(comments[ix])\n",
    "ops.sort(key=lambda x:x[1], reverse=True)\n",
    "print(\"***\")\n",
    "print(ops[0:4])"
   ]
  },
  {
   "cell_type": "code",
   "execution_count": 32,
   "metadata": {},
   "outputs": [
    {
     "name": "stdout",
     "output_type": "stream",
     "text": [
      "-1.6249951124191284 2: <s> it\n",
      "-1.6184653043746948 3: <s> it would\n",
      "-0.5090322494506836 3: it would be\n",
      "-2.176880121231079 3: would be </s>\n"
     ]
    },
    {
     "data": {
      "text/plain": [
       "1.3191484041748047"
      ]
     },
     "execution_count": 32,
     "metadata": {},
     "output_type": "execute_result"
    }
   ],
   "source": [
    "lm.score(\"it would be\", verbose=True)\n",
    "slor(\"it would be\", lm, up)"
   ]
  }
 ],
 "metadata": {
  "kernelspec": {
   "display_name": "Python 3",
   "language": "python",
   "name": "python3"
  },
  "language_info": {
   "codemirror_mode": {
    "name": "ipython",
    "version": 3
   },
   "file_extension": ".py",
   "mimetype": "text/x-python",
   "name": "python",
   "nbconvert_exporter": "python",
   "pygments_lexer": "ipython3",
   "version": "3.7.4"
  }
 },
 "nbformat": 4,
 "nbformat_minor": 2
}
